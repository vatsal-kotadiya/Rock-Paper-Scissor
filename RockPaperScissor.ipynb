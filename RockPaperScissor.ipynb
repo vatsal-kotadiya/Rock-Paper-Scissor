{
 "cells": [
  {
   "cell_type": "code",
   "execution_count": 2,
   "id": "b6d5133a-05f3-4ede-a65d-0bd340847533",
   "metadata": {},
   "outputs": [
    {
     "name": "stdout",
     "output_type": "stream",
     "text": [
      "=====  Rock Paper Scissors  =====\n"
     ]
    },
    {
     "name": "stdin",
     "output_type": "stream",
     "text": [
      "How many rounds do you want to play?  3\n"
     ]
    },
    {
     "name": "stdout",
     "output_type": "stream",
     "text": [
      "\n",
      "Round 1\n"
     ]
    },
    {
     "name": "stdin",
     "output_type": "stream",
     "text": [
      "Choose (rock, paper, or scissors) :  paper\n"
     ]
    },
    {
     "name": "stdout",
     "output_type": "stream",
     "text": [
      "Computer chose : scissors\n",
      "Computer wins this round!\n",
      "Score → You: 0 | Computer: 1\n",
      "\n",
      "Round 2\n"
     ]
    },
    {
     "name": "stdin",
     "output_type": "stream",
     "text": [
      "Choose (rock, paper, or scissors) :  scissors\n"
     ]
    },
    {
     "name": "stdout",
     "output_type": "stream",
     "text": [
      "Computer chose : scissors\n",
      "This round is a tie!\n",
      "Score → You: 0 | Computer: 1\n",
      "\n",
      "Round 3\n"
     ]
    },
    {
     "name": "stdin",
     "output_type": "stream",
     "text": [
      "Choose (rock, paper, or scissors) :  rock\n"
     ]
    },
    {
     "name": "stdout",
     "output_type": "stream",
     "text": [
      "Computer chose : paper\n",
      "Computer wins this round!\n",
      "Score → You: 0 | Computer: 2\n",
      "\n",
      "Final Result :\n",
      "Computer Wins the Match!\n"
     ]
    }
   ],
   "source": [
    "import random\n",
    "\n",
    "def winner(player, computer):\n",
    "    if player == computer:\n",
    "        return \"Tie\"\n",
    "    elif (player == \"rock\" and computer == \"scissors\") or \\\n",
    "         (player == \"paper\" and computer == \"rock\") or \\\n",
    "         (player == \"scissors\" and computer == \"paper\"):\n",
    "        return \"Player\"\n",
    "    else:\n",
    "        return \"Computer\"\n",
    "\n",
    "choices = [\"rock\", \"paper\", \"scissors\"]\n",
    "\n",
    "print(\"=====  Rock Paper Scissors  =====\")\n",
    "rounds = int(input(\"How many rounds do you want to play? \"))\n",
    "p_score, c_score = 0, 0\n",
    "\n",
    "for r in range(1, rounds + 1):\n",
    "    print(f\"\\nRound {r}\")\n",
    "    player = input(\"Choose (rock, paper, or scissors) : \").lower()\n",
    "    if player not in choices:\n",
    "        print(\"Invalid choice, try again.\")\n",
    "        continue\n",
    "\n",
    "    computer = random.choice(choices)\n",
    "    print(\"Computer chose :\", computer)\n",
    "\n",
    "    result = winner(player, computer)\n",
    "    if result == \"Player\":\n",
    "        p_score += 1\n",
    "        print(\"You win this round!\")\n",
    "    elif result == \"Computer\":\n",
    "        c_score += 1\n",
    "        print(\"Computer wins this round!\")\n",
    "    else:\n",
    "        print(\"This round is a tie!\")\n",
    "\n",
    "    print(\"Score → You:\", p_score, \"| Computer:\", c_score)\n",
    "\n",
    "print(\"\\nFinal Result :\")\n",
    "if p_score > c_score:\n",
    "    print(\"You are the Champion!\")\n",
    "elif c_score > p_score:\n",
    "    print(\"Computer Wins the Match!\")\n",
    "else:\n",
    "    print(\"It's a Tie Overall!\")\n"
   ]
  },
  {
   "cell_type": "code",
   "execution_count": null,
   "id": "ae4cd5ae-143f-4c0c-b6ad-ca5465f1f1d0",
   "metadata": {},
   "outputs": [],
   "source": []
  }
 ],
 "metadata": {
  "kernelspec": {
   "display_name": "Python 3 (ipykernel)",
   "language": "python",
   "name": "python3"
  },
  "language_info": {
   "codemirror_mode": {
    "name": "ipython",
    "version": 3
   },
   "file_extension": ".py",
   "mimetype": "text/x-python",
   "name": "python",
   "nbconvert_exporter": "python",
   "pygments_lexer": "ipython3",
   "version": "3.13.5"
  }
 },
 "nbformat": 4,
 "nbformat_minor": 5
}
